{
  "cells": [
    {
      "cell_type": "code",
      "execution_count": null,
      "metadata": {
        "collapsed": false
      },
      "outputs": [],
      "source": [
        "%matplotlib inline"
      ]
    },
    {
      "cell_type": "markdown",
      "metadata": {},
      "source": [
        "\nCompute a spectral indice or an expression without defining a sensor\n=============================================================================\n\nThis example shows how to compute an expression or an indice in a time series (or at one acquisition)\nwithout defining a sensor.\n\n\n"
      ]
    },
    {
      "cell_type": "markdown",
      "metadata": {},
      "source": [
        "Use sample from Sentinel2 level 3A syntheses (from Theia)\n--------------------------------------------------------------------\n\n"
      ]
    },
    {
      "cell_type": "code",
      "execution_count": null,
      "metadata": {
        "collapsed": false
      },
      "outputs": [],
      "source": [
        "from museopheno import indices,datasets\n\nX,dates = datasets.Sentinel2_3a_2018(return_dates=True,get_only_sample=True)\n\nprint(X.shape)"
      ]
    },
    {
      "cell_type": "markdown",
      "metadata": {},
      "source": [
        "We have to define the band order and the number of compenent (i.e. number of band per date)\n\n\n"
      ]
    },
    {
      "cell_type": "code",
      "execution_count": null,
      "metadata": {
        "collapsed": false
      },
      "outputs": [],
      "source": [
        "band_order = ['2','3','4','8','5','6','7','8A','11','12']"
      ]
    },
    {
      "cell_type": "markdown",
      "metadata": {},
      "source": [
        "As our raster has 10 bands per date, let's check the number of columns of X array  divided by the numver of bands per date\n\n\n"
      ]
    },
    {
      "cell_type": "code",
      "execution_count": null,
      "metadata": {
        "collapsed": false
      },
      "outputs": [],
      "source": [
        "print('Image contains {} dates.'.format(int(X.shape[1]/len(band_order))))"
      ]
    },
    {
      "cell_type": "markdown",
      "metadata": {},
      "source": [
        "Let's create an expression\n--------------------------------------------------------------------------\n\n"
      ]
    },
    {
      "cell_type": "code",
      "execution_count": null,
      "metadata": {
        "collapsed": false
      },
      "outputs": [],
      "source": [
        "expression = 'B8/(B2+1)'\n\nresult = indices.generateIndice(X,band_order=band_order,expression=expression)\n\nprint(result)"
      ]
    },
    {
      "cell_type": "markdown",
      "metadata": {},
      "source": [
        "Plot result\n\n\n"
      ]
    },
    {
      "cell_type": "code",
      "execution_count": null,
      "metadata": {
        "collapsed": false
      },
      "outputs": [],
      "source": [
        "from matplotlib import pyplot as plt\nfrom datetime import datetime\ndateToDatetime = [datetime.strptime(str(date),'%Y%m%d') for date in dates]\nplt.plot_date(dateToDatetime,result.T,'-o')"
      ]
    }
  ],
  "metadata": {
    "kernelspec": {
      "display_name": "Python 3",
      "language": "python",
      "name": "python3"
    },
    "language_info": {
      "codemirror_mode": {
        "name": "ipython",
        "version": 3
      },
      "file_extension": ".py",
      "mimetype": "text/x-python",
      "name": "python",
      "nbconvert_exporter": "python",
      "pygments_lexer": "ipython3",
      "version": "3.6.8"
    }
  },
  "nbformat": 4,
  "nbformat_minor": 0
}