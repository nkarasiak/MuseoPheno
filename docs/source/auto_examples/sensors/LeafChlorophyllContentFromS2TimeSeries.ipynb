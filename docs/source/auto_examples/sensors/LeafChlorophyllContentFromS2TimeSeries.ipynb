{
  "cells": [
    {
      "cell_type": "code",
      "execution_count": null,
      "metadata": {
        "collapsed": false
      },
      "outputs": [],
      "source": [
        "%matplotlib inline"
      ]
    },
    {
      "cell_type": "markdown",
      "metadata": {},
      "source": [
        "\nCompute Leaf Chlorophyll Content from S2 Time Series\n=============================================================================\n\nThis example shows how to compute an indice (here LChloC) from a S2 with 10 bands.\nThe raster is order date per date (blue,green,red...date 1 then blue,green,red... date 2...)\n\n\n"
      ]
    },
    {
      "cell_type": "markdown",
      "metadata": {},
      "source": [
        "Import libraries\n\n"
      ]
    },
    {
      "cell_type": "code",
      "execution_count": null,
      "metadata": {
        "collapsed": false
      },
      "outputs": [],
      "source": [
        "import numpy as np\nfrom museopheno import sensors,datasets"
      ]
    },
    {
      "cell_type": "markdown",
      "metadata": {},
      "source": [
        "Import raster dataset with list of dates\n\n"
      ]
    },
    {
      "cell_type": "code",
      "execution_count": null,
      "metadata": {
        "collapsed": false
      },
      "outputs": [],
      "source": [
        "raster,dates = datasets.Sentinel2_3a_2018(return_dates=True)"
      ]
    },
    {
      "cell_type": "markdown",
      "metadata": {},
      "source": [
        "Create an instance of sensors.Sentinel2 with 10bands\n\n"
      ]
    },
    {
      "cell_type": "code",
      "execution_count": null,
      "metadata": {
        "collapsed": false
      },
      "outputs": [],
      "source": [
        "S2 = sensors.Sentinel2(n_bands=10)\n\nprint('Default band order for 10 bands is : '+', '.join(S2.band_order)+'.')\n\n# List of available indice : \nS2.available_indices.keys()"
      ]
    },
    {
      "cell_type": "markdown",
      "metadata": {},
      "source": [
        "Write metadata in each band (date + band name)\n------------------------------------------------------\n\n"
      ]
    },
    {
      "cell_type": "markdown",
      "metadata": {},
      "source": [
        "Write metadata in each band (date + band name) in order to use\nraster timeseries manager plugin on QGIS or to have the date and the band in\nthe list of bands QGIS.\n\n"
      ]
    },
    {
      "cell_type": "code",
      "execution_count": null,
      "metadata": {
        "collapsed": false
      },
      "outputs": [],
      "source": [
        "S2.setDescriptionMetadata(raster,dates)"
      ]
    },
    {
      "cell_type": "markdown",
      "metadata": {},
      "source": [
        "Generate indice from array\n---------------------------------\n\n"
      ]
    },
    {
      "cell_type": "code",
      "execution_count": null,
      "metadata": {
        "collapsed": false
      },
      "outputs": [],
      "source": [
        "X = datasets.Sentinel2_3a_2018(get_only_sample=True)\nLChloC = S2.generateIndice(X,S2.getIndiceExpression('LChloC'),dtype=np.float32)\nprint(LChloC)"
      ]
    },
    {
      "cell_type": "markdown",
      "metadata": {},
      "source": [
        "Generate indice from and to a raster\n---------------------------------------\n\n"
      ]
    },
    {
      "cell_type": "code",
      "execution_count": null,
      "metadata": {
        "collapsed": false
      },
      "outputs": [],
      "source": [
        "S2.generateRaster(input_raster=raster,output_raster='/tmp/LChloC.tif',expression=S2.getIndiceExpression('LChloC'),dtype=np.float32)"
      ]
    },
    {
      "cell_type": "markdown",
      "metadata": {},
      "source": [
        "Plot example of LChloC\n\n"
      ]
    },
    {
      "cell_type": "code",
      "execution_count": null,
      "metadata": {
        "collapsed": false
      },
      "outputs": [],
      "source": [
        "from matplotlib import pyplot as plt\nfrom datetime import datetime\ndateToDatetime = [datetime.strptime(str(date),'%Y%m%d') for date in dates]\nplt.plot_date(dateToDatetime,LChloC[:10,:].T,'-o')\nplt.ylabel('Leaf Chlorophyll Content')\nimport os\nos.remove('/tmp/LChloC.tif')"
      ]
    }
  ],
  "metadata": {
    "kernelspec": {
      "display_name": "Python 3",
      "language": "python",
      "name": "python3"
    },
    "language_info": {
      "codemirror_mode": {
        "name": "ipython",
        "version": 3
      },
      "file_extension": ".py",
      "mimetype": "text/x-python",
      "name": "python",
      "nbconvert_exporter": "python",
      "pygments_lexer": "ipython3",
      "version": "3.6.8"
    }
  },
  "nbformat": 4,
  "nbformat_minor": 0
}