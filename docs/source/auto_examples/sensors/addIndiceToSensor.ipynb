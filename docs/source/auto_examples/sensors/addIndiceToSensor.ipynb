{
  "cells": [
    {
      "cell_type": "code",
      "execution_count": null,
      "metadata": {
        "collapsed": false
      },
      "outputs": [],
      "source": [
        "%matplotlib inline"
      ]
    },
    {
      "cell_type": "markdown",
      "metadata": {},
      "source": [
        "\nAdd or modify an spectral indice of a sensor\n=============================================================================\n\nThis example shows how to add or modify an indice for a specific sensor.\nHere we add/modify the NBR indice (Normalized Burn-Ratio), then we generate a raster.\n\n"
      ]
    },
    {
      "cell_type": "markdown",
      "metadata": {},
      "source": [
        "Import libraries\n------------------\n\n"
      ]
    },
    {
      "cell_type": "code",
      "execution_count": null,
      "metadata": {
        "collapsed": false
      },
      "outputs": [],
      "source": [
        "import numpy as np\nfrom museopheno import sensors,datasets"
      ]
    },
    {
      "cell_type": "markdown",
      "metadata": {},
      "source": [
        "Import dataset\n------------------\n\n"
      ]
    },
    {
      "cell_type": "code",
      "execution_count": null,
      "metadata": {
        "collapsed": false
      },
      "outputs": [],
      "source": [
        "X,dates = datasets.Sentinel2_3a_2018(return_dates=True,get_only_sample=True)\n\nS2 = sensors.Sentinel2(n_bands=10)\n\nprint('Default band order for 10 bands is : '+', '.join(S2.band_order)+'.')"
      ]
    },
    {
      "cell_type": "markdown",
      "metadata": {},
      "source": [
        "Look at available S2 indices\n\n"
      ]
    },
    {
      "cell_type": "code",
      "execution_count": null,
      "metadata": {
        "collapsed": false
      },
      "outputs": [],
      "source": [
        "S2.available_indices"
      ]
    },
    {
      "cell_type": "markdown",
      "metadata": {},
      "source": [
        "add the NBR indice\n------------------------\n\n"
      ]
    },
    {
      "cell_type": "markdown",
      "metadata": {},
      "source": [
        "This indice is already in MuseoPheno, but if you change the expression it will overwrite the previous one\n\n"
      ]
    },
    {
      "cell_type": "code",
      "execution_count": null,
      "metadata": {
        "collapsed": false
      },
      "outputs": [],
      "source": [
        "S2.addIndice('NBR',expression='(B08 - B12) / (B08 + B12)',condition='(B08+B12)!=0')"
      ]
    },
    {
      "cell_type": "markdown",
      "metadata": {},
      "source": [
        "compute NBR from an array\n-----------------------------------\n\n"
      ]
    },
    {
      "cell_type": "code",
      "execution_count": null,
      "metadata": {
        "collapsed": false
      },
      "outputs": [],
      "source": [
        "NBR = S2.generateIndice(X,S2.getIndiceExpression('NBR'))"
      ]
    },
    {
      "cell_type": "markdown",
      "metadata": {},
      "source": [
        "Produce the indice raster\n---------------------------\n\n"
      ]
    },
    {
      "cell_type": "code",
      "execution_count": null,
      "metadata": {
        "collapsed": false
      },
      "outputs": [],
      "source": [
        "# We multiply by 100 to save with int16 datatype\n\nraster = datasets.Sentinel2_3a_2018()\nS2.generateRaster(raster,output_raster='/tmp/NBR.tif',expression=S2.getIndiceExpression('NBR'),multiply_by=100,dtype=np.int16)\n\n###################\n# plot result\n\nfrom matplotlib import pyplot as plt\nfrom datetime import datetime\ndateToDatetime = [datetime.strptime(str(date),'%Y%m%d') for date in dates]\nplt.plot_date(dateToDatetime,NBR[:20,:].T,'-o')\nplt.ylabel('Normalized Burn Ratio')"
      ]
    }
  ],
  "metadata": {
    "kernelspec": {
      "display_name": "Python 3",
      "language": "python",
      "name": "python3"
    },
    "language_info": {
      "codemirror_mode": {
        "name": "ipython",
        "version": 3
      },
      "file_extension": ".py",
      "mimetype": "text/x-python",
      "name": "python",
      "nbconvert_exporter": "python",
      "pygments_lexer": "ipython3",
      "version": "3.6.8"
    }
  },
  "nbformat": 4,
  "nbformat_minor": 0
}