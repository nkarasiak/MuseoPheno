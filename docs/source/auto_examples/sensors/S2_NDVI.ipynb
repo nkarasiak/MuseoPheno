{
  "cells": [
    {
      "cell_type": "code",
      "execution_count": null,
      "metadata": {
        "collapsed": false
      },
      "outputs": [],
      "source": [
        "%matplotlib inline"
      ]
    },
    {
      "cell_type": "markdown",
      "metadata": {},
      "source": [
        "\nCompute a spectral indice from S2 Time Series\n=============================================================================\n\nThis example shows how to compute an indice (here NDVI) from a S2 with 10 bands.\nThe raster is order date per date (blue,green,red...date 1 then blue,green,red... date 2...)\n\n"
      ]
    },
    {
      "cell_type": "markdown",
      "metadata": {},
      "source": [
        "Import libraries\n---------------------------\n\n"
      ]
    },
    {
      "cell_type": "code",
      "execution_count": null,
      "metadata": {
        "collapsed": false
      },
      "outputs": [],
      "source": [
        "import numpy as np\nfrom museopheno import sensors,datasets\nfrom museotoolbox.raster_tools import rasterMath"
      ]
    },
    {
      "cell_type": "markdown",
      "metadata": {},
      "source": [
        "Import dataset\n---------------------------\n\n"
      ]
    },
    {
      "cell_type": "code",
      "execution_count": null,
      "metadata": {
        "collapsed": false
      },
      "outputs": [],
      "source": [
        "raster,dates = datasets.Sentinel2_3a_2018(return_dates=True)"
      ]
    },
    {
      "cell_type": "markdown",
      "metadata": {},
      "source": [
        "Define an instance of sensors.Sentinel2()\n\n"
      ]
    },
    {
      "cell_type": "code",
      "execution_count": null,
      "metadata": {
        "collapsed": false
      },
      "outputs": [],
      "source": [
        "S2 = sensors.Sentinel2(n_bands=10)\n\n# check default band_order\nprint('Default band order for 10 bands is : '+', '.join(S2.band_order)+'.')\n\n# List of available indice : \nS2.available_indices.keys()"
      ]
    },
    {
      "cell_type": "markdown",
      "metadata": {},
      "source": [
        "Write metadata in each band (date + band name)\n------------------------------------------------------\n\n"
      ]
    },
    {
      "cell_type": "code",
      "execution_count": null,
      "metadata": {
        "collapsed": false
      },
      "outputs": [],
      "source": [
        "S2.setDescriptionMetadata(raster,dates)"
      ]
    },
    {
      "cell_type": "markdown",
      "metadata": {},
      "source": [
        "Generate a raster with NDVI indice\n---------------------------------------------\n\n"
      ]
    },
    {
      "cell_type": "code",
      "execution_count": null,
      "metadata": {
        "collapsed": false
      },
      "outputs": [],
      "source": [
        "# show expression and condition of NDVI indice\nprint(S2.getIndiceExpression('NDVI'))\n\n# generate raster\nS2.generateRaster(input_raster=raster,output_raster='/tmp/S2.tif',expression=S2.getIndiceExpression('NDVI'),dtype=np.float32)"
      ]
    },
    {
      "cell_type": "markdown",
      "metadata": {},
      "source": [
        "Plot image\n\n"
      ]
    },
    {
      "cell_type": "code",
      "execution_count": null,
      "metadata": {
        "collapsed": false
      },
      "outputs": [],
      "source": [
        "rM = rasterMath(raster)\nX=rM.getRandomBlock()\nNDVI = S2.generateIndice(X,S2.getIndiceExpression('NDVI'),dtype=np.float32)\n\nfrom matplotlib import pyplot as plt\nfrom datetime import datetime\ndateToDatetime = [datetime.strptime(str(date),'%Y%m%d') for date in dates]\nplt.plot_date(dateToDatetime,NDVI[:10,:].T,'-o')\nplt.ylabel('Leaf Chlorophyll Content')"
      ]
    }
  ],
  "metadata": {
    "kernelspec": {
      "display_name": "Python 3",
      "language": "python",
      "name": "python3"
    },
    "language_info": {
      "codemirror_mode": {
        "name": "ipython",
        "version": 3
      },
      "file_extension": ".py",
      "mimetype": "text/x-python",
      "name": "python",
      "nbconvert_exporter": "python",
      "pygments_lexer": "ipython3",
      "version": "3.6.8"
    }
  },
  "nbformat": 4,
  "nbformat_minor": 0
}